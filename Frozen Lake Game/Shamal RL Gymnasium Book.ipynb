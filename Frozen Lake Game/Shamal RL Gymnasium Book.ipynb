{
 "cells": [
  {
   "cell_type": "markdown",
   "id": "aab662b2",
   "metadata": {},
   "source": [
    "# Frozen Lake Gym Env: \n",
    "## Ideas Learnt:\n",
    "    1. using optimal policy to decide agent's actions"
   ]
  },
  {
   "cell_type": "code",
   "execution_count": 1,
   "id": "a26ebe96",
   "metadata": {},
   "outputs": [
    {
     "name": "stdout",
     "output_type": "stream",
     "text": [
      "Requirement already satisfied: gymnasium in /Users/shamalshaikh/anaconda3/lib/python3.11/site-packages (0.29.1)\n",
      "Requirement already satisfied: numpy>=1.21.0 in /Users/shamalshaikh/anaconda3/lib/python3.11/site-packages (from gymnasium) (1.24.3)\n",
      "Requirement already satisfied: cloudpickle>=1.2.0 in /Users/shamalshaikh/anaconda3/lib/python3.11/site-packages (from gymnasium) (2.2.1)\n",
      "Requirement already satisfied: typing-extensions>=4.3.0 in /Users/shamalshaikh/anaconda3/lib/python3.11/site-packages (from gymnasium) (4.7.1)\n",
      "Requirement already satisfied: farama-notifications>=0.0.1 in /Users/shamalshaikh/anaconda3/lib/python3.11/site-packages (from gymnasium) (0.0.4)\n",
      "\n",
      "\u001b[1m[\u001b[0m\u001b[34;49mnotice\u001b[0m\u001b[1;39;49m]\u001b[0m\u001b[39;49m A new release of pip is available: \u001b[0m\u001b[31;49m23.3.1\u001b[0m\u001b[39;49m -> \u001b[0m\u001b[32;49m24.0\u001b[0m\n",
      "\u001b[1m[\u001b[0m\u001b[34;49mnotice\u001b[0m\u001b[1;39;49m]\u001b[0m\u001b[39;49m To update, run: \u001b[0m\u001b[32;49mpip install --upgrade pip\u001b[0m\n"
     ]
    }
   ],
   "source": [
    "!pip install gymnasium"
   ]
  },
  {
   "cell_type": "code",
   "execution_count": 2,
   "id": "8c5c0ff7",
   "metadata": {},
   "outputs": [],
   "source": [
    "import time"
   ]
  },
  {
   "cell_type": "code",
   "execution_count": 3,
   "id": "bbcc1351",
   "metadata": {},
   "outputs": [],
   "source": [
    "# My inputs to the code:\n",
    "# Using the Optmal policy we already found in the previous notebook\n",
    "# optimal_policy = ['E', 'E', 'S', 'W', 'S', 'H', 'S', 'H', 'E', 'E', 'S', 'H', 'H', 'E', 'E', 'G']\n",
    "# convert this to the desired values: 0-left, 1-down, 2-right, 3-up\n",
    "optimal_policy = [2, 2, 1, 0, 1, 3, 1, 3, 2, 2, 1, 3, 3, 2, 2, 3]"
   ]
  },
  {
   "cell_type": "code",
   "execution_count": 4,
   "id": "b3596460",
   "metadata": {},
   "outputs": [
    {
     "name": "stdout",
     "output_type": "stream",
     "text": [
      "0\n",
      "1\n",
      "2\n",
      "6\n",
      "10\n",
      "14\n"
     ]
    }
   ],
   "source": [
    "import gymnasium as gym\n",
    "\n",
    "env = gym.make('FrozenLake-v1', desc=[\"SFFF\", \"FHFH\", \"FFFH\", \"HFFG\"], map_name=\"4x4\", is_slippery=False, render_mode='human')\n",
    "\n",
    "state = env.reset()[0]\n",
    "terminated = False\n",
    "truncated = False\n",
    "\n",
    "#time to pause the game for humans\n",
    "# start_time = time.time()\n",
    "i=0\n",
    "while(not terminated and not truncated):\n",
    "#     #code to pause the while loop for viewing\n",
    "#     while time.time() - start_time < 10:\n",
    "#         time.sleep(0.1) \n",
    "    print(state)\n",
    "    action = optimal_policy[state]\n",
    "    new_state, reward, terminated, truncated, _ = env.step(action)\n",
    "    if terminated or truncated:\n",
    "        i=0\n",
    "    state = new_state\n",
    "env.close()\n",
    "    "
   ]
  },
  {
   "cell_type": "code",
   "execution_count": null,
   "id": "b0fc853f",
   "metadata": {},
   "outputs": [],
   "source": []
  }
 ],
 "metadata": {
  "kernelspec": {
   "display_name": "Python 3 (ipykernel)",
   "language": "python",
   "name": "python3"
  },
  "language_info": {
   "codemirror_mode": {
    "name": "ipython",
    "version": 3
   },
   "file_extension": ".py",
   "mimetype": "text/x-python",
   "name": "python",
   "nbconvert_exporter": "python",
   "pygments_lexer": "ipython3",
   "version": "3.11.5"
  }
 },
 "nbformat": 4,
 "nbformat_minor": 5
}
